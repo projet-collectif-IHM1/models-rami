{
 "cells": [
  {
   "cell_type": "code",
   "execution_count": 55,
   "metadata": {},
   "outputs": [],
   "source": [
    "import tensorflow as tf\n",
    "from tensorflow.keras.applications import MobileNetV2\n",
    "from tensorflow.keras.layers import Dense, GlobalAveragePooling2D, Dropout, BatchNormalization\n",
    "from tensorflow.keras.models import Model\n",
    "from tensorflow.keras.optimizers import Adam\n",
    "from tensorflow.keras.callbacks import ModelCheckpoint, ReduceLROnPlateau\n",
    "from tensorflow.keras.preprocessing.image import ImageDataGenerator\n",
    "import os"
   ]
  },
  {
   "cell_type": "code",
   "execution_count": 56,
   "metadata": {},
   "outputs": [],
   "source": [
    "base_dir = \"data\""
   ]
  },
  {
   "cell_type": "code",
   "execution_count": 69,
   "metadata": {},
   "outputs": [
    {
     "name": "stdout",
     "output_type": "stream",
     "text": [
      "Found 8126 images belonging to 3 classes.\n",
      "Found 2029 images belonging to 3 classes.\n",
      "Found 10155 images belonging to 3 classes.\n"
     ]
    }
   ],
   "source": [
    "test_datagen = ImageDataGenerator(rescale=1./255)\n",
    "train_datagen = ImageDataGenerator(\n",
    "    rescale=1./255,\n",
    "    rotation_range=20,\n",
    "    width_shift_range=0.2,\n",
    "    height_shift_range=0.2,\n",
    "    shear_range=0.2,\n",
    "    zoom_range=0.2,\n",
    "    horizontal_flip=True,\n",
    "    validation_split=0.2  # 80% train, 20% validation\n",
    ")\n",
    "\n",
    "# Générateurs train et validation\n",
    "train_generator = train_datagen.flow_from_directory(\n",
    "    base_dir,\n",
    "    target_size=(150, 150),\n",
    "    batch_size=32,\n",
    "    class_mode='categorical',\n",
    "    subset='training'\n",
    ")\n",
    "\n",
    "validation_generator = train_datagen.flow_from_directory(\n",
    "    base_dir,\n",
    "    target_size=(150, 150),\n",
    "    batch_size=32,\n",
    "    class_mode='categorical',\n",
    "    subset='validation'\n",
    ")\n",
    "\n",
    "test_generator = test_datagen.flow_from_directory(\n",
    "    base_dir,\n",
    "    target_size=(150, 150),\n",
    "    batch_size=32,\n",
    "    class_mode='categorical',\n",
    "    shuffle=False\n",
    ")"
   ]
  },
  {
   "cell_type": "code",
   "execution_count": 61,
   "metadata": {},
   "outputs": [
    {
     "name": "stderr",
     "output_type": "stream",
     "text": [
      "C:\\Users\\21652\\AppData\\Local\\Temp\\ipykernel_64044\\2506032908.py:1: UserWarning: `input_shape` is undefined or non-square, or `rows` is not in [96, 128, 160, 192, 224]. Weights for input shape (224, 224) will be loaded as the default.\n",
      "  base_model = MobileNetV2(weights='imagenet', include_top=False, input_shape=(150, 150, 3))\n"
     ]
    }
   ],
   "source": [
    "base_model = MobileNetV2(weights='imagenet', include_top=False, input_shape=(150, 150, 3))\n",
    "\n",
    "# Geler les couches du modèle de base\n",
    "base_model.trainable = False\n",
    "\n",
    "x = base_model.output\n",
    "x = GlobalAveragePooling2D()(x)\n",
    "x = BatchNormalization()(x)  # Ajout Batch Normalization pour stabiliser l'entraînement\n",
    "x = Dense(512, activation='relu')(x)\n",
    "x = Dropout(0.4)(x)  # Dropout pour éviter overfitting\n",
    "x = Dense(256, activation='relu')(x)\n",
    "x = Dropout(0.3)(x)\n",
    "x = Dense(128, activation='relu')(x)\n",
    "x = Dropout(0.2)(x)\n",
    "predictions = Dense(3, activation='softmax')(x)  # 3 classes"
   ]
  },
  {
   "cell_type": "code",
   "execution_count": 62,
   "metadata": {},
   "outputs": [],
   "source": [
    "# Création du modèle\n",
    "model = Model(inputs=base_model.input, outputs=predictions)\n",
    "\n",
    "# Compilation du modèle\n",
    "model.compile(optimizer=Adam(learning_rate=0.0001),\n",
    "              loss='categorical_crossentropy',\n",
    "              metrics=['accuracy'])\n",
    "\n",
    "# --- 3. Callbacks pour améliorer l'entraînement ---\n",
    "checkpoint = ModelCheckpoint(\"best_model.h5\", monitor=\"val_loss\", save_best_only=True, mode=\"min\", verbose=1)\n",
    "reduce_lr = ReduceLROnPlateau(monitor='val_loss', factor=0.5, patience=5, verbose=1, min_lr=1e-6)\n"
   ]
  },
  {
   "cell_type": "code",
   "execution_count": 63,
   "metadata": {},
   "outputs": [
    {
     "name": "stdout",
     "output_type": "stream",
     "text": [
      "Epoch 1/50\n",
      "\u001b[1m254/254\u001b[0m \u001b[32m━━━━━━━━━━━━━━━━━━━━\u001b[0m\u001b[37m\u001b[0m \u001b[1m0s\u001b[0m 398ms/step - accuracy: 0.5410 - loss: 1.0090\n",
      "Epoch 1: val_loss improved from inf to 0.60562, saving model to best_model.h5\n"
     ]
    },
    {
     "name": "stderr",
     "output_type": "stream",
     "text": [
      "WARNING:absl:You are saving your model as an HDF5 file via `model.save()` or `keras.saving.save_model(model)`. This file format is considered legacy. We recommend using instead the native Keras format, e.g. `model.save('my_model.keras')` or `keras.saving.save_model(model, 'my_model.keras')`. \n"
     ]
    },
    {
     "name": "stdout",
     "output_type": "stream",
     "text": [
      "\u001b[1m254/254\u001b[0m \u001b[32m━━━━━━━━━━━━━━━━━━━━\u001b[0m\u001b[37m\u001b[0m \u001b[1m130s\u001b[0m 490ms/step - accuracy: 0.5414 - loss: 1.0083 - val_accuracy: 0.7467 - val_loss: 0.6056 - learning_rate: 1.0000e-04\n",
      "Epoch 2/50\n",
      "\u001b[1m254/254\u001b[0m \u001b[32m━━━━━━━━━━━━━━━━━━━━\u001b[0m\u001b[37m\u001b[0m \u001b[1m0s\u001b[0m 416ms/step - accuracy: 0.7395 - loss: 0.6242\n",
      "Epoch 2: val_loss improved from 0.60562 to 0.50286, saving model to best_model.h5\n"
     ]
    },
    {
     "name": "stderr",
     "output_type": "stream",
     "text": [
      "WARNING:absl:You are saving your model as an HDF5 file via `model.save()` or `keras.saving.save_model(model)`. This file format is considered legacy. We recommend using instead the native Keras format, e.g. `model.save('my_model.keras')` or `keras.saving.save_model(model, 'my_model.keras')`. \n"
     ]
    },
    {
     "name": "stdout",
     "output_type": "stream",
     "text": [
      "\u001b[1m254/254\u001b[0m \u001b[32m━━━━━━━━━━━━━━━━━━━━\u001b[0m\u001b[37m\u001b[0m \u001b[1m129s\u001b[0m 507ms/step - accuracy: 0.7395 - loss: 0.6241 - val_accuracy: 0.7950 - val_loss: 0.5029 - learning_rate: 1.0000e-04\n",
      "Epoch 3/50\n",
      "\u001b[1m254/254\u001b[0m \u001b[32m━━━━━━━━━━━━━━━━━━━━\u001b[0m\u001b[37m\u001b[0m \u001b[1m0s\u001b[0m 395ms/step - accuracy: 0.7703 - loss: 0.5496\n",
      "Epoch 3: val_loss improved from 0.50286 to 0.44440, saving model to best_model.h5\n"
     ]
    },
    {
     "name": "stderr",
     "output_type": "stream",
     "text": [
      "WARNING:absl:You are saving your model as an HDF5 file via `model.save()` or `keras.saving.save_model(model)`. This file format is considered legacy. We recommend using instead the native Keras format, e.g. `model.save('my_model.keras')` or `keras.saving.save_model(model, 'my_model.keras')`. \n"
     ]
    },
    {
     "name": "stdout",
     "output_type": "stream",
     "text": [
      "\u001b[1m254/254\u001b[0m \u001b[32m━━━━━━━━━━━━━━━━━━━━\u001b[0m\u001b[37m\u001b[0m \u001b[1m128s\u001b[0m 504ms/step - accuracy: 0.7703 - loss: 0.5495 - val_accuracy: 0.8201 - val_loss: 0.4444 - learning_rate: 1.0000e-04\n",
      "Epoch 4/50\n",
      "\u001b[1m254/254\u001b[0m \u001b[32m━━━━━━━━━━━━━━━━━━━━\u001b[0m\u001b[37m\u001b[0m \u001b[1m0s\u001b[0m 418ms/step - accuracy: 0.8036 - loss: 0.4866\n",
      "Epoch 4: val_loss improved from 0.44440 to 0.42551, saving model to best_model.h5\n"
     ]
    },
    {
     "name": "stderr",
     "output_type": "stream",
     "text": [
      "WARNING:absl:You are saving your model as an HDF5 file via `model.save()` or `keras.saving.save_model(model)`. This file format is considered legacy. We recommend using instead the native Keras format, e.g. `model.save('my_model.keras')` or `keras.saving.save_model(model, 'my_model.keras')`. \n"
     ]
    },
    {
     "name": "stdout",
     "output_type": "stream",
     "text": [
      "\u001b[1m254/254\u001b[0m \u001b[32m━━━━━━━━━━━━━━━━━━━━\u001b[0m\u001b[37m\u001b[0m \u001b[1m131s\u001b[0m 517ms/step - accuracy: 0.8036 - loss: 0.4865 - val_accuracy: 0.8295 - val_loss: 0.4255 - learning_rate: 1.0000e-04\n",
      "Epoch 5/50\n",
      "\u001b[1m254/254\u001b[0m \u001b[32m━━━━━━━━━━━━━━━━━━━━\u001b[0m\u001b[37m\u001b[0m \u001b[1m0s\u001b[0m 385ms/step - accuracy: 0.8193 - loss: 0.4505\n",
      "Epoch 5: val_loss improved from 0.42551 to 0.41059, saving model to best_model.h5\n"
     ]
    },
    {
     "name": "stderr",
     "output_type": "stream",
     "text": [
      "WARNING:absl:You are saving your model as an HDF5 file via `model.save()` or `keras.saving.save_model(model)`. This file format is considered legacy. We recommend using instead the native Keras format, e.g. `model.save('my_model.keras')` or `keras.saving.save_model(model, 'my_model.keras')`. \n"
     ]
    },
    {
     "name": "stdout",
     "output_type": "stream",
     "text": [
      "\u001b[1m254/254\u001b[0m \u001b[32m━━━━━━━━━━━━━━━━━━━━\u001b[0m\u001b[37m\u001b[0m \u001b[1m125s\u001b[0m 491ms/step - accuracy: 0.8193 - loss: 0.4505 - val_accuracy: 0.8477 - val_loss: 0.4106 - learning_rate: 1.0000e-04\n",
      "Epoch 6/50\n",
      "\u001b[1m254/254\u001b[0m \u001b[32m━━━━━━━━━━━━━━━━━━━━\u001b[0m\u001b[37m\u001b[0m \u001b[1m0s\u001b[0m 396ms/step - accuracy: 0.8271 - loss: 0.4255\n",
      "Epoch 6: val_loss improved from 0.41059 to 0.39407, saving model to best_model.h5\n"
     ]
    },
    {
     "name": "stderr",
     "output_type": "stream",
     "text": [
      "WARNING:absl:You are saving your model as an HDF5 file via `model.save()` or `keras.saving.save_model(model)`. This file format is considered legacy. We recommend using instead the native Keras format, e.g. `model.save('my_model.keras')` or `keras.saving.save_model(model, 'my_model.keras')`. \n"
     ]
    },
    {
     "name": "stdout",
     "output_type": "stream",
     "text": [
      "\u001b[1m254/254\u001b[0m \u001b[32m━━━━━━━━━━━━━━━━━━━━\u001b[0m\u001b[37m\u001b[0m \u001b[1m126s\u001b[0m 498ms/step - accuracy: 0.8271 - loss: 0.4255 - val_accuracy: 0.8393 - val_loss: 0.3941 - learning_rate: 1.0000e-04\n",
      "Epoch 7/50\n",
      "\u001b[1m254/254\u001b[0m \u001b[32m━━━━━━━━━━━━━━━━━━━━\u001b[0m\u001b[37m\u001b[0m \u001b[1m0s\u001b[0m 396ms/step - accuracy: 0.8373 - loss: 0.4105\n",
      "Epoch 7: val_loss did not improve from 0.39407\n",
      "\u001b[1m254/254\u001b[0m \u001b[32m━━━━━━━━━━━━━━━━━━━━\u001b[0m\u001b[37m\u001b[0m \u001b[1m132s\u001b[0m 519ms/step - accuracy: 0.8373 - loss: 0.4104 - val_accuracy: 0.8379 - val_loss: 0.4242 - learning_rate: 1.0000e-04\n",
      "Epoch 8/50\n",
      "\u001b[1m254/254\u001b[0m \u001b[32m━━━━━━━━━━━━━━━━━━━━\u001b[0m\u001b[37m\u001b[0m \u001b[1m0s\u001b[0m 457ms/step - accuracy: 0.8462 - loss: 0.3949\n",
      "Epoch 8: val_loss did not improve from 0.39407\n",
      "\u001b[1m254/254\u001b[0m \u001b[32m━━━━━━━━━━━━━━━━━━━━\u001b[0m\u001b[37m\u001b[0m \u001b[1m144s\u001b[0m 568ms/step - accuracy: 0.8462 - loss: 0.3949 - val_accuracy: 0.8364 - val_loss: 0.4343 - learning_rate: 1.0000e-04\n",
      "Epoch 9/50\n",
      "\u001b[1m254/254\u001b[0m \u001b[32m━━━━━━━━━━━━━━━━━━━━\u001b[0m\u001b[37m\u001b[0m \u001b[1m0s\u001b[0m 446ms/step - accuracy: 0.8530 - loss: 0.3704\n",
      "Epoch 9: val_loss improved from 0.39407 to 0.39119, saving model to best_model.h5\n"
     ]
    },
    {
     "name": "stderr",
     "output_type": "stream",
     "text": [
      "WARNING:absl:You are saving your model as an HDF5 file via `model.save()` or `keras.saving.save_model(model)`. This file format is considered legacy. We recommend using instead the native Keras format, e.g. `model.save('my_model.keras')` or `keras.saving.save_model(model, 'my_model.keras')`. \n"
     ]
    },
    {
     "name": "stdout",
     "output_type": "stream",
     "text": [
      "\u001b[1m254/254\u001b[0m \u001b[32m━━━━━━━━━━━━━━━━━━━━\u001b[0m\u001b[37m\u001b[0m \u001b[1m146s\u001b[0m 575ms/step - accuracy: 0.8530 - loss: 0.3704 - val_accuracy: 0.8526 - val_loss: 0.3912 - learning_rate: 1.0000e-04\n",
      "Epoch 10/50\n",
      "\u001b[1m254/254\u001b[0m \u001b[32m━━━━━━━━━━━━━━━━━━━━\u001b[0m\u001b[37m\u001b[0m \u001b[1m0s\u001b[0m 450ms/step - accuracy: 0.8650 - loss: 0.3442\n",
      "Epoch 10: val_loss did not improve from 0.39119\n",
      "\u001b[1m254/254\u001b[0m \u001b[32m━━━━━━━━━━━━━━━━━━━━\u001b[0m\u001b[37m\u001b[0m \u001b[1m144s\u001b[0m 565ms/step - accuracy: 0.8650 - loss: 0.3442 - val_accuracy: 0.8418 - val_loss: 0.4295 - learning_rate: 1.0000e-04\n",
      "Epoch 11/50\n",
      "\u001b[1m254/254\u001b[0m \u001b[32m━━━━━━━━━━━━━━━━━━━━\u001b[0m\u001b[37m\u001b[0m \u001b[1m0s\u001b[0m 460ms/step - accuracy: 0.8645 - loss: 0.3357\n",
      "Epoch 11: val_loss improved from 0.39119 to 0.38593, saving model to best_model.h5\n"
     ]
    },
    {
     "name": "stderr",
     "output_type": "stream",
     "text": [
      "WARNING:absl:You are saving your model as an HDF5 file via `model.save()` or `keras.saving.save_model(model)`. This file format is considered legacy. We recommend using instead the native Keras format, e.g. `model.save('my_model.keras')` or `keras.saving.save_model(model, 'my_model.keras')`. \n"
     ]
    },
    {
     "name": "stdout",
     "output_type": "stream",
     "text": [
      "\u001b[1m254/254\u001b[0m \u001b[32m━━━━━━━━━━━━━━━━━━━━\u001b[0m\u001b[37m\u001b[0m \u001b[1m203s\u001b[0m 572ms/step - accuracy: 0.8645 - loss: 0.3358 - val_accuracy: 0.8403 - val_loss: 0.3859 - learning_rate: 1.0000e-04\n",
      "Epoch 12/50\n",
      "\u001b[1m254/254\u001b[0m \u001b[32m━━━━━━━━━━━━━━━━━━━━\u001b[0m\u001b[37m\u001b[0m \u001b[1m0s\u001b[0m 405ms/step - accuracy: 0.8588 - loss: 0.3475\n",
      "Epoch 12: val_loss did not improve from 0.38593\n",
      "\u001b[1m254/254\u001b[0m \u001b[32m━━━━━━━━━━━━━━━━━━━━\u001b[0m\u001b[37m\u001b[0m \u001b[1m134s\u001b[0m 528ms/step - accuracy: 0.8588 - loss: 0.3475 - val_accuracy: 0.8551 - val_loss: 0.3891 - learning_rate: 1.0000e-04\n",
      "Epoch 13/50\n",
      "\u001b[1m254/254\u001b[0m \u001b[32m━━━━━━━━━━━━━━━━━━━━\u001b[0m\u001b[37m\u001b[0m \u001b[1m0s\u001b[0m 518ms/step - accuracy: 0.8690 - loss: 0.3341\n",
      "Epoch 13: val_loss did not improve from 0.38593\n",
      "\u001b[1m254/254\u001b[0m \u001b[32m━━━━━━━━━━━━━━━━━━━━\u001b[0m\u001b[37m\u001b[0m \u001b[1m161s\u001b[0m 633ms/step - accuracy: 0.8690 - loss: 0.3341 - val_accuracy: 0.8487 - val_loss: 0.3866 - learning_rate: 1.0000e-04\n",
      "Epoch 14/50\n",
      "\u001b[1m254/254\u001b[0m \u001b[32m━━━━━━━━━━━━━━━━━━━━\u001b[0m\u001b[37m\u001b[0m \u001b[1m0s\u001b[0m 418ms/step - accuracy: 0.8737 - loss: 0.3235\n",
      "Epoch 14: val_loss did not improve from 0.38593\n",
      "\u001b[1m254/254\u001b[0m \u001b[32m━━━━━━━━━━━━━━━━━━━━\u001b[0m\u001b[37m\u001b[0m \u001b[1m130s\u001b[0m 512ms/step - accuracy: 0.8737 - loss: 0.3235 - val_accuracy: 0.8477 - val_loss: 0.4001 - learning_rate: 1.0000e-04\n",
      "Epoch 15/50\n",
      "\u001b[1m254/254\u001b[0m \u001b[32m━━━━━━━━━━━━━━━━━━━━\u001b[0m\u001b[37m\u001b[0m \u001b[1m0s\u001b[0m 474ms/step - accuracy: 0.8804 - loss: 0.3186\n",
      "Epoch 15: val_loss did not improve from 0.38593\n",
      "\u001b[1m254/254\u001b[0m \u001b[32m━━━━━━━━━━━━━━━━━━━━\u001b[0m\u001b[37m\u001b[0m \u001b[1m142s\u001b[0m 557ms/step - accuracy: 0.8804 - loss: 0.3186 - val_accuracy: 0.8379 - val_loss: 0.3990 - learning_rate: 1.0000e-04\n",
      "Epoch 16/50\n",
      "\u001b[1m254/254\u001b[0m \u001b[32m━━━━━━━━━━━━━━━━━━━━\u001b[0m\u001b[37m\u001b[0m \u001b[1m0s\u001b[0m 363ms/step - accuracy: 0.8795 - loss: 0.2964\n",
      "Epoch 16: val_loss did not improve from 0.38593\n",
      "\n",
      "Epoch 16: ReduceLROnPlateau reducing learning rate to 4.999999873689376e-05.\n",
      "\u001b[1m254/254\u001b[0m \u001b[32m━━━━━━━━━━━━━━━━━━━━\u001b[0m\u001b[37m\u001b[0m \u001b[1m115s\u001b[0m 453ms/step - accuracy: 0.8796 - loss: 0.2964 - val_accuracy: 0.8369 - val_loss: 0.4161 - learning_rate: 1.0000e-04\n",
      "Epoch 17/50\n",
      "\u001b[1m254/254\u001b[0m \u001b[32m━━━━━━━━━━━━━━━━━━━━\u001b[0m\u001b[37m\u001b[0m \u001b[1m0s\u001b[0m 374ms/step - accuracy: 0.8774 - loss: 0.3137\n",
      "Epoch 17: val_loss did not improve from 0.38593\n",
      "\u001b[1m254/254\u001b[0m \u001b[32m━━━━━━━━━━━━━━━━━━━━\u001b[0m\u001b[37m\u001b[0m \u001b[1m118s\u001b[0m 466ms/step - accuracy: 0.8774 - loss: 0.3137 - val_accuracy: 0.8403 - val_loss: 0.4189 - learning_rate: 5.0000e-05\n",
      "Epoch 18/50\n",
      "\u001b[1m254/254\u001b[0m \u001b[32m━━━━━━━━━━━━━━━━━━━━\u001b[0m\u001b[37m\u001b[0m \u001b[1m0s\u001b[0m 447ms/step - accuracy: 0.8896 - loss: 0.2879\n",
      "Epoch 18: val_loss did not improve from 0.38593\n",
      "\u001b[1m254/254\u001b[0m \u001b[32m━━━━━━━━━━━━━━━━━━━━\u001b[0m\u001b[37m\u001b[0m \u001b[1m139s\u001b[0m 546ms/step - accuracy: 0.8896 - loss: 0.2880 - val_accuracy: 0.8433 - val_loss: 0.4137 - learning_rate: 5.0000e-05\n",
      "Epoch 19/50\n",
      "\u001b[1m254/254\u001b[0m \u001b[32m━━━━━━━━━━━━━━━━━━━━\u001b[0m\u001b[37m\u001b[0m \u001b[1m0s\u001b[0m 367ms/step - accuracy: 0.8882 - loss: 0.2798\n",
      "Epoch 19: val_loss did not improve from 0.38593\n",
      "\u001b[1m254/254\u001b[0m \u001b[32m━━━━━━━━━━━━━━━━━━━━\u001b[0m\u001b[37m\u001b[0m \u001b[1m118s\u001b[0m 463ms/step - accuracy: 0.8882 - loss: 0.2798 - val_accuracy: 0.8507 - val_loss: 0.4088 - learning_rate: 5.0000e-05\n",
      "Epoch 20/50\n",
      "\u001b[1m254/254\u001b[0m \u001b[32m━━━━━━━━━━━━━━━━━━━━\u001b[0m\u001b[37m\u001b[0m \u001b[1m0s\u001b[0m 411ms/step - accuracy: 0.8897 - loss: 0.2852\n",
      "Epoch 20: val_loss did not improve from 0.38593\n",
      "\u001b[1m254/254\u001b[0m \u001b[32m━━━━━━━━━━━━━━━━━━━━\u001b[0m\u001b[37m\u001b[0m \u001b[1m127s\u001b[0m 501ms/step - accuracy: 0.8897 - loss: 0.2852 - val_accuracy: 0.8443 - val_loss: 0.3923 - learning_rate: 5.0000e-05\n",
      "Epoch 21/50\n",
      "\u001b[1m254/254\u001b[0m \u001b[32m━━━━━━━━━━━━━━━━━━━━\u001b[0m\u001b[37m\u001b[0m \u001b[1m0s\u001b[0m 346ms/step - accuracy: 0.8917 - loss: 0.2758\n",
      "Epoch 21: val_loss did not improve from 0.38593\n",
      "\n",
      "Epoch 21: ReduceLROnPlateau reducing learning rate to 2.499999936844688e-05.\n",
      "\u001b[1m254/254\u001b[0m \u001b[32m━━━━━━━━━━━━━━━━━━━━\u001b[0m\u001b[37m\u001b[0m \u001b[1m109s\u001b[0m 428ms/step - accuracy: 0.8917 - loss: 0.2759 - val_accuracy: 0.8408 - val_loss: 0.4116 - learning_rate: 5.0000e-05\n",
      "Epoch 22/50\n",
      "\u001b[1m254/254\u001b[0m \u001b[32m━━━━━━━━━━━━━━━━━━━━\u001b[0m\u001b[37m\u001b[0m \u001b[1m0s\u001b[0m 350ms/step - accuracy: 0.8810 - loss: 0.2955\n",
      "Epoch 22: val_loss did not improve from 0.38593\n",
      "\u001b[1m254/254\u001b[0m \u001b[32m━━━━━━━━━━━━━━━━━━━━\u001b[0m\u001b[37m\u001b[0m \u001b[1m110s\u001b[0m 433ms/step - accuracy: 0.8810 - loss: 0.2955 - val_accuracy: 0.8448 - val_loss: 0.4266 - learning_rate: 2.5000e-05\n",
      "Epoch 23/50\n",
      "\u001b[1m254/254\u001b[0m \u001b[32m━━━━━━━━━━━━━━━━━━━━\u001b[0m\u001b[37m\u001b[0m \u001b[1m0s\u001b[0m 348ms/step - accuracy: 0.8955 - loss: 0.2704\n",
      "Epoch 23: val_loss did not improve from 0.38593\n",
      "\u001b[1m254/254\u001b[0m \u001b[32m━━━━━━━━━━━━━━━━━━━━\u001b[0m\u001b[37m\u001b[0m \u001b[1m110s\u001b[0m 432ms/step - accuracy: 0.8955 - loss: 0.2704 - val_accuracy: 0.8526 - val_loss: 0.3869 - learning_rate: 2.5000e-05\n",
      "Epoch 24/50\n",
      "\u001b[1m254/254\u001b[0m \u001b[32m━━━━━━━━━━━━━━━━━━━━\u001b[0m\u001b[37m\u001b[0m \u001b[1m0s\u001b[0m 353ms/step - accuracy: 0.8883 - loss: 0.2726\n",
      "Epoch 24: val_loss did not improve from 0.38593\n",
      "\u001b[1m254/254\u001b[0m \u001b[32m━━━━━━━━━━━━━━━━━━━━\u001b[0m\u001b[37m\u001b[0m \u001b[1m112s\u001b[0m 441ms/step - accuracy: 0.8884 - loss: 0.2726 - val_accuracy: 0.8497 - val_loss: 0.4045 - learning_rate: 2.5000e-05\n",
      "Epoch 25/50\n",
      "\u001b[1m254/254\u001b[0m \u001b[32m━━━━━━━━━━━━━━━━━━━━\u001b[0m\u001b[37m\u001b[0m \u001b[1m0s\u001b[0m 354ms/step - accuracy: 0.8865 - loss: 0.2801\n",
      "Epoch 25: val_loss did not improve from 0.38593\n",
      "\u001b[1m254/254\u001b[0m \u001b[32m━━━━━━━━━━━━━━━━━━━━\u001b[0m\u001b[37m\u001b[0m \u001b[1m111s\u001b[0m 437ms/step - accuracy: 0.8865 - loss: 0.2801 - val_accuracy: 0.8457 - val_loss: 0.4059 - learning_rate: 2.5000e-05\n",
      "Epoch 26/50\n",
      "\u001b[1m254/254\u001b[0m \u001b[32m━━━━━━━━━━━━━━━━━━━━\u001b[0m\u001b[37m\u001b[0m \u001b[1m0s\u001b[0m 346ms/step - accuracy: 0.8895 - loss: 0.2774\n",
      "Epoch 26: val_loss did not improve from 0.38593\n",
      "\n",
      "Epoch 26: ReduceLROnPlateau reducing learning rate to 1.249999968422344e-05.\n",
      "\u001b[1m254/254\u001b[0m \u001b[32m━━━━━━━━━━━━━━━━━━━━\u001b[0m\u001b[37m\u001b[0m \u001b[1m109s\u001b[0m 429ms/step - accuracy: 0.8895 - loss: 0.2773 - val_accuracy: 0.8457 - val_loss: 0.4010 - learning_rate: 2.5000e-05\n",
      "Epoch 27/50\n",
      "\u001b[1m254/254\u001b[0m \u001b[32m━━━━━━━━━━━━━━━━━━━━\u001b[0m\u001b[37m\u001b[0m \u001b[1m0s\u001b[0m 349ms/step - accuracy: 0.8882 - loss: 0.2858\n",
      "Epoch 27: val_loss did not improve from 0.38593\n",
      "\u001b[1m254/254\u001b[0m \u001b[32m━━━━━━━━━━━━━━━━━━━━\u001b[0m\u001b[37m\u001b[0m \u001b[1m110s\u001b[0m 433ms/step - accuracy: 0.8882 - loss: 0.2858 - val_accuracy: 0.8531 - val_loss: 0.3965 - learning_rate: 1.2500e-05\n",
      "Epoch 28/50\n",
      "\u001b[1m254/254\u001b[0m \u001b[32m━━━━━━━━━━━━━━━━━━━━\u001b[0m\u001b[37m\u001b[0m \u001b[1m0s\u001b[0m 458ms/step - accuracy: 0.8942 - loss: 0.2613\n",
      "Epoch 28: val_loss did not improve from 0.38593\n",
      "\u001b[1m254/254\u001b[0m \u001b[32m━━━━━━━━━━━━━━━━━━━━\u001b[0m\u001b[37m\u001b[0m \u001b[1m140s\u001b[0m 553ms/step - accuracy: 0.8942 - loss: 0.2613 - val_accuracy: 0.8438 - val_loss: 0.4058 - learning_rate: 1.2500e-05\n",
      "Epoch 29/50\n",
      "\u001b[1m254/254\u001b[0m \u001b[32m━━━━━━━━━━━━━━━━━━━━\u001b[0m\u001b[37m\u001b[0m \u001b[1m0s\u001b[0m 373ms/step - accuracy: 0.8951 - loss: 0.2717\n",
      "Epoch 29: val_loss did not improve from 0.38593\n",
      "\u001b[1m254/254\u001b[0m \u001b[32m━━━━━━━━━━━━━━━━━━━━\u001b[0m\u001b[37m\u001b[0m \u001b[1m118s\u001b[0m 464ms/step - accuracy: 0.8951 - loss: 0.2717 - val_accuracy: 0.8462 - val_loss: 0.4076 - learning_rate: 1.2500e-05\n",
      "Epoch 30/50\n",
      "\u001b[1m254/254\u001b[0m \u001b[32m━━━━━━━━━━━━━━━━━━━━\u001b[0m\u001b[37m\u001b[0m \u001b[1m0s\u001b[0m 368ms/step - accuracy: 0.8974 - loss: 0.2680\n",
      "Epoch 30: val_loss did not improve from 0.38593\n",
      "\u001b[1m254/254\u001b[0m \u001b[32m━━━━━━━━━━━━━━━━━━━━\u001b[0m\u001b[37m\u001b[0m \u001b[1m117s\u001b[0m 460ms/step - accuracy: 0.8974 - loss: 0.2680 - val_accuracy: 0.8438 - val_loss: 0.4060 - learning_rate: 1.2500e-05\n",
      "Epoch 31/50\n",
      "\u001b[1m254/254\u001b[0m \u001b[32m━━━━━━━━━━━━━━━━━━━━\u001b[0m\u001b[37m\u001b[0m \u001b[1m0s\u001b[0m 416ms/step - accuracy: 0.8958 - loss: 0.2612\n",
      "Epoch 31: val_loss did not improve from 0.38593\n",
      "\n",
      "Epoch 31: ReduceLROnPlateau reducing learning rate to 6.24999984211172e-06.\n",
      "\u001b[1m254/254\u001b[0m \u001b[32m━━━━━━━━━━━━━━━━━━━━\u001b[0m\u001b[37m\u001b[0m \u001b[1m131s\u001b[0m 514ms/step - accuracy: 0.8958 - loss: 0.2612 - val_accuracy: 0.8492 - val_loss: 0.3863 - learning_rate: 1.2500e-05\n",
      "Epoch 32/50\n",
      "\u001b[1m254/254\u001b[0m \u001b[32m━━━━━━━━━━━━━━━━━━━━\u001b[0m\u001b[37m\u001b[0m \u001b[1m0s\u001b[0m 454ms/step - accuracy: 0.9005 - loss: 0.2557\n",
      "Epoch 32: val_loss did not improve from 0.38593\n",
      "\u001b[1m254/254\u001b[0m \u001b[32m━━━━━━━━━━━━━━━━━━━━\u001b[0m\u001b[37m\u001b[0m \u001b[1m144s\u001b[0m 566ms/step - accuracy: 0.9005 - loss: 0.2557 - val_accuracy: 0.8398 - val_loss: 0.4127 - learning_rate: 6.2500e-06\n",
      "Epoch 33/50\n",
      "\u001b[1m254/254\u001b[0m \u001b[32m━━━━━━━━━━━━━━━━━━━━\u001b[0m\u001b[37m\u001b[0m \u001b[1m0s\u001b[0m 431ms/step - accuracy: 0.8899 - loss: 0.2726\n",
      "Epoch 33: val_loss did not improve from 0.38593\n",
      "\u001b[1m254/254\u001b[0m \u001b[32m━━━━━━━━━━━━━━━━━━━━\u001b[0m\u001b[37m\u001b[0m \u001b[1m136s\u001b[0m 532ms/step - accuracy: 0.8900 - loss: 0.2726 - val_accuracy: 0.8438 - val_loss: 0.4043 - learning_rate: 6.2500e-06\n",
      "Epoch 34/50\n",
      "\u001b[1m254/254\u001b[0m \u001b[32m━━━━━━━━━━━━━━━━━━━━\u001b[0m\u001b[37m\u001b[0m \u001b[1m0s\u001b[0m 495ms/step - accuracy: 0.9018 - loss: 0.2532\n",
      "Epoch 34: val_loss did not improve from 0.38593\n",
      "\u001b[1m254/254\u001b[0m \u001b[32m━━━━━━━━━━━━━━━━━━━━\u001b[0m\u001b[37m\u001b[0m \u001b[1m151s\u001b[0m 593ms/step - accuracy: 0.9018 - loss: 0.2533 - val_accuracy: 0.8408 - val_loss: 0.4096 - learning_rate: 6.2500e-06\n",
      "Epoch 35/50\n",
      "\u001b[1m254/254\u001b[0m \u001b[32m━━━━━━━━━━━━━━━━━━━━\u001b[0m\u001b[37m\u001b[0m \u001b[1m0s\u001b[0m 497ms/step - accuracy: 0.8962 - loss: 0.2735\n",
      "Epoch 35: val_loss did not improve from 0.38593\n",
      "\u001b[1m254/254\u001b[0m \u001b[32m━━━━━━━━━━━━━━━━━━━━\u001b[0m\u001b[37m\u001b[0m \u001b[1m155s\u001b[0m 611ms/step - accuracy: 0.8962 - loss: 0.2735 - val_accuracy: 0.8561 - val_loss: 0.4049 - learning_rate: 6.2500e-06\n",
      "Epoch 36/50\n",
      "\u001b[1m254/254\u001b[0m \u001b[32m━━━━━━━━━━━━━━━━━━━━\u001b[0m\u001b[37m\u001b[0m \u001b[1m0s\u001b[0m 421ms/step - accuracy: 0.8943 - loss: 0.2598\n",
      "Epoch 36: val_loss did not improve from 0.38593\n",
      "\n",
      "Epoch 36: ReduceLROnPlateau reducing learning rate to 3.12499992105586e-06.\n",
      "\u001b[1m254/254\u001b[0m \u001b[32m━━━━━━━━━━━━━━━━━━━━\u001b[0m\u001b[37m\u001b[0m \u001b[1m135s\u001b[0m 530ms/step - accuracy: 0.8943 - loss: 0.2598 - val_accuracy: 0.8467 - val_loss: 0.4121 - learning_rate: 6.2500e-06\n",
      "Epoch 37/50\n",
      "\u001b[1m254/254\u001b[0m \u001b[32m━━━━━━━━━━━━━━━━━━━━\u001b[0m\u001b[37m\u001b[0m \u001b[1m0s\u001b[0m 411ms/step - accuracy: 0.9040 - loss: 0.2516\n",
      "Epoch 37: val_loss did not improve from 0.38593\n",
      "\u001b[1m254/254\u001b[0m \u001b[32m━━━━━━━━━━━━━━━━━━━━\u001b[0m\u001b[37m\u001b[0m \u001b[1m130s\u001b[0m 512ms/step - accuracy: 0.9040 - loss: 0.2516 - val_accuracy: 0.8502 - val_loss: 0.3936 - learning_rate: 3.1250e-06\n",
      "Epoch 38/50\n",
      "\u001b[1m254/254\u001b[0m \u001b[32m━━━━━━━━━━━━━━━━━━━━\u001b[0m\u001b[37m\u001b[0m \u001b[1m0s\u001b[0m 473ms/step - accuracy: 0.8981 - loss: 0.2662\n",
      "Epoch 38: val_loss did not improve from 0.38593\n",
      "\u001b[1m254/254\u001b[0m \u001b[32m━━━━━━━━━━━━━━━━━━━━\u001b[0m\u001b[37m\u001b[0m \u001b[1m151s\u001b[0m 597ms/step - accuracy: 0.8981 - loss: 0.2662 - val_accuracy: 0.8324 - val_loss: 0.4342 - learning_rate: 3.1250e-06\n",
      "Epoch 39/50\n",
      "\u001b[1m254/254\u001b[0m \u001b[32m━━━━━━━━━━━━━━━━━━━━\u001b[0m\u001b[37m\u001b[0m \u001b[1m0s\u001b[0m 462ms/step - accuracy: 0.9014 - loss: 0.2561\n",
      "Epoch 39: val_loss did not improve from 0.38593\n",
      "\u001b[1m254/254\u001b[0m \u001b[32m━━━━━━━━━━━━━━━━━━━━\u001b[0m\u001b[37m\u001b[0m \u001b[1m147s\u001b[0m 579ms/step - accuracy: 0.9014 - loss: 0.2561 - val_accuracy: 0.8428 - val_loss: 0.4083 - learning_rate: 3.1250e-06\n",
      "Epoch 40/50\n",
      "\u001b[1m254/254\u001b[0m \u001b[32m━━━━━━━━━━━━━━━━━━━━\u001b[0m\u001b[37m\u001b[0m \u001b[1m0s\u001b[0m 444ms/step - accuracy: 0.8926 - loss: 0.2645\n",
      "Epoch 40: val_loss did not improve from 0.38593\n",
      "\u001b[1m254/254\u001b[0m \u001b[32m━━━━━━━━━━━━━━━━━━━━\u001b[0m\u001b[37m\u001b[0m \u001b[1m140s\u001b[0m 552ms/step - accuracy: 0.8926 - loss: 0.2645 - val_accuracy: 0.8393 - val_loss: 0.4170 - learning_rate: 3.1250e-06\n",
      "Epoch 41/50\n",
      "\u001b[1m254/254\u001b[0m \u001b[32m━━━━━━━━━━━━━━━━━━━━\u001b[0m\u001b[37m\u001b[0m \u001b[1m0s\u001b[0m 468ms/step - accuracy: 0.8933 - loss: 0.2714\n",
      "Epoch 41: val_loss did not improve from 0.38593\n",
      "\n",
      "Epoch 41: ReduceLROnPlateau reducing learning rate to 1.56249996052793e-06.\n",
      "\u001b[1m254/254\u001b[0m \u001b[32m━━━━━━━━━━━━━━━━━━━━\u001b[0m\u001b[37m\u001b[0m \u001b[1m143s\u001b[0m 561ms/step - accuracy: 0.8934 - loss: 0.2714 - val_accuracy: 0.8438 - val_loss: 0.4147 - learning_rate: 3.1250e-06\n",
      "Epoch 42/50\n",
      "\u001b[1m254/254\u001b[0m \u001b[32m━━━━━━━━━━━━━━━━━━━━\u001b[0m\u001b[37m\u001b[0m \u001b[1m0s\u001b[0m 442ms/step - accuracy: 0.9014 - loss: 0.2607\n",
      "Epoch 42: val_loss did not improve from 0.38593\n",
      "\u001b[1m254/254\u001b[0m \u001b[32m━━━━━━━━━━━━━━━━━━━━\u001b[0m\u001b[37m\u001b[0m \u001b[1m140s\u001b[0m 552ms/step - accuracy: 0.9014 - loss: 0.2607 - val_accuracy: 0.8521 - val_loss: 0.4123 - learning_rate: 1.5625e-06\n",
      "Epoch 43/50\n",
      "\u001b[1m254/254\u001b[0m \u001b[32m━━━━━━━━━━━━━━━━━━━━\u001b[0m\u001b[37m\u001b[0m \u001b[1m0s\u001b[0m 481ms/step - accuracy: 0.9014 - loss: 0.2579\n",
      "Epoch 43: val_loss did not improve from 0.38593\n",
      "\u001b[1m254/254\u001b[0m \u001b[32m━━━━━━━━━━━━━━━━━━━━\u001b[0m\u001b[37m\u001b[0m \u001b[1m151s\u001b[0m 594ms/step - accuracy: 0.9014 - loss: 0.2579 - val_accuracy: 0.8452 - val_loss: 0.3934 - learning_rate: 1.5625e-06\n",
      "Epoch 44/50\n",
      "\u001b[1m254/254\u001b[0m \u001b[32m━━━━━━━━━━━━━━━━━━━━\u001b[0m\u001b[37m\u001b[0m \u001b[1m0s\u001b[0m 448ms/step - accuracy: 0.8966 - loss: 0.2648\n",
      "Epoch 44: val_loss did not improve from 0.38593\n",
      "\u001b[1m254/254\u001b[0m \u001b[32m━━━━━━━━━━━━━━━━━━━━\u001b[0m\u001b[37m\u001b[0m \u001b[1m146s\u001b[0m 574ms/step - accuracy: 0.8966 - loss: 0.2648 - val_accuracy: 0.8369 - val_loss: 0.4130 - learning_rate: 1.5625e-06\n",
      "Epoch 45/50\n",
      "\u001b[1m254/254\u001b[0m \u001b[32m━━━━━━━━━━━━━━━━━━━━\u001b[0m\u001b[37m\u001b[0m \u001b[1m0s\u001b[0m 524ms/step - accuracy: 0.8985 - loss: 0.2627\n",
      "Epoch 45: val_loss did not improve from 0.38593\n",
      "\u001b[1m254/254\u001b[0m \u001b[32m━━━━━━━━━━━━━━━━━━━━\u001b[0m\u001b[37m\u001b[0m \u001b[1m166s\u001b[0m 652ms/step - accuracy: 0.8985 - loss: 0.2627 - val_accuracy: 0.8457 - val_loss: 0.4062 - learning_rate: 1.5625e-06\n",
      "Epoch 46/50\n",
      "\u001b[1m254/254\u001b[0m \u001b[32m━━━━━━━━━━━━━━━━━━━━\u001b[0m\u001b[37m\u001b[0m \u001b[1m0s\u001b[0m 495ms/step - accuracy: 0.9003 - loss: 0.2638\n",
      "Epoch 46: val_loss did not improve from 0.38593\n",
      "\n",
      "Epoch 46: ReduceLROnPlateau reducing learning rate to 1e-06.\n",
      "\u001b[1m254/254\u001b[0m \u001b[32m━━━━━━━━━━━━━━━━━━━━\u001b[0m\u001b[37m\u001b[0m \u001b[1m159s\u001b[0m 626ms/step - accuracy: 0.9003 - loss: 0.2638 - val_accuracy: 0.8477 - val_loss: 0.4088 - learning_rate: 1.5625e-06\n",
      "Epoch 47/50\n",
      "\u001b[1m254/254\u001b[0m \u001b[32m━━━━━━━━━━━━━━━━━━━━\u001b[0m\u001b[37m\u001b[0m \u001b[1m0s\u001b[0m 486ms/step - accuracy: 0.9017 - loss: 0.2598\n",
      "Epoch 47: val_loss did not improve from 0.38593\n",
      "\u001b[1m254/254\u001b[0m \u001b[32m━━━━━━━━━━━━━━━━━━━━\u001b[0m\u001b[37m\u001b[0m \u001b[1m153s\u001b[0m 601ms/step - accuracy: 0.9017 - loss: 0.2598 - val_accuracy: 0.8423 - val_loss: 0.4133 - learning_rate: 1.0000e-06\n",
      "Epoch 48/50\n",
      "\u001b[1m254/254\u001b[0m \u001b[32m━━━━━━━━━━━━━━━━━━━━\u001b[0m\u001b[37m\u001b[0m \u001b[1m0s\u001b[0m 481ms/step - accuracy: 0.8971 - loss: 0.2586\n",
      "Epoch 48: val_loss did not improve from 0.38593\n",
      "\u001b[1m254/254\u001b[0m \u001b[32m━━━━━━━━━━━━━━━━━━━━\u001b[0m\u001b[37m\u001b[0m \u001b[1m149s\u001b[0m 586ms/step - accuracy: 0.8971 - loss: 0.2586 - val_accuracy: 0.8438 - val_loss: 0.4180 - learning_rate: 1.0000e-06\n",
      "Epoch 49/50\n",
      "\u001b[1m254/254\u001b[0m \u001b[32m━━━━━━━━━━━━━━━━━━━━\u001b[0m\u001b[37m\u001b[0m \u001b[1m0s\u001b[0m 446ms/step - accuracy: 0.9025 - loss: 0.2499\n",
      "Epoch 49: val_loss did not improve from 0.38593\n",
      "\u001b[1m254/254\u001b[0m \u001b[32m━━━━━━━━━━━━━━━━━━━━\u001b[0m\u001b[37m\u001b[0m \u001b[1m142s\u001b[0m 558ms/step - accuracy: 0.9025 - loss: 0.2499 - val_accuracy: 0.8344 - val_loss: 0.4090 - learning_rate: 1.0000e-06\n",
      "Epoch 50/50\n",
      "\u001b[1m254/254\u001b[0m \u001b[32m━━━━━━━━━━━━━━━━━━━━\u001b[0m\u001b[37m\u001b[0m \u001b[1m0s\u001b[0m 426ms/step - accuracy: 0.8960 - loss: 0.2555\n",
      "Epoch 50: val_loss did not improve from 0.38593\n",
      "\u001b[1m254/254\u001b[0m \u001b[32m━━━━━━━━━━━━━━━━━━━━\u001b[0m\u001b[37m\u001b[0m \u001b[1m135s\u001b[0m 531ms/step - accuracy: 0.8960 - loss: 0.2556 - val_accuracy: 0.8270 - val_loss: 0.4373 - learning_rate: 1.0000e-06\n"
     ]
    }
   ],
   "source": [
    "history = model.fit(\n",
    "    train_generator,\n",
    "    epochs=50,\n",
    "    validation_data=validation_generator,\n",
    "    callbacks=[checkpoint, reduce_lr],\n",
    "    verbose=1\n",
    ")"
   ]
  },
  {
   "cell_type": "code",
   "execution_count": 64,
   "metadata": {},
   "outputs": [
    {
     "name": "stderr",
     "output_type": "stream",
     "text": [
      "WARNING:absl:You are saving your model as an HDF5 file via `model.save()` or `keras.saving.save_model(model)`. This file format is considered legacy. We recommend using instead the native Keras format, e.g. `model.save('my_model.keras')` or `keras.saving.save_model(model, 'my_model.keras')`. \n"
     ]
    }
   ],
   "source": [
    "# Sauvegarde du modèle final\n",
    "model.save('model4.h5')"
   ]
  },
  {
   "cell_type": "code",
   "execution_count": 67,
   "metadata": {},
   "outputs": [
    {
     "name": "stdout",
     "output_type": "stream",
     "text": [
      "Epoch 1/20\n",
      "\u001b[1m254/254\u001b[0m \u001b[32m━━━━━━━━━━━━━━━━━━━━\u001b[0m\u001b[37m\u001b[0m \u001b[1m0s\u001b[0m 417ms/step - accuracy: 0.8922 - loss: 0.2649\n",
      "Epoch 1: val_loss did not improve from 0.38593\n",
      "\u001b[1m254/254\u001b[0m \u001b[32m━━━━━━━━━━━━━━━━━━━━\u001b[0m\u001b[37m\u001b[0m \u001b[1m137s\u001b[0m 516ms/step - accuracy: 0.8922 - loss: 0.2649 - val_accuracy: 0.8477 - val_loss: 0.3886 - learning_rate: 1.0000e-05\n",
      "Epoch 2/20\n",
      "\u001b[1m254/254\u001b[0m \u001b[32m━━━━━━━━━━━━━━━━━━━━\u001b[0m\u001b[37m\u001b[0m \u001b[1m0s\u001b[0m 430ms/step - accuracy: 0.8948 - loss: 0.2611\n",
      "Epoch 2: val_loss did not improve from 0.38593\n",
      "\u001b[1m254/254\u001b[0m \u001b[32m━━━━━━━━━━━━━━━━━━━━\u001b[0m\u001b[37m\u001b[0m \u001b[1m135s\u001b[0m 532ms/step - accuracy: 0.8948 - loss: 0.2611 - val_accuracy: 0.8275 - val_loss: 0.4554 - learning_rate: 1.0000e-05\n",
      "Epoch 3/20\n",
      "\u001b[1m254/254\u001b[0m \u001b[32m━━━━━━━━━━━━━━━━━━━━\u001b[0m\u001b[37m\u001b[0m \u001b[1m0s\u001b[0m 402ms/step - accuracy: 0.9040 - loss: 0.2593\n",
      "Epoch 3: val_loss did not improve from 0.38593\n",
      "\u001b[1m254/254\u001b[0m \u001b[32m━━━━━━━━━━━━━━━━━━━━\u001b[0m\u001b[37m\u001b[0m \u001b[1m126s\u001b[0m 496ms/step - accuracy: 0.9040 - loss: 0.2593 - val_accuracy: 0.8408 - val_loss: 0.4122 - learning_rate: 1.0000e-05\n",
      "Epoch 4/20\n",
      "\u001b[1m254/254\u001b[0m \u001b[32m━━━━━━━━━━━━━━━━━━━━\u001b[0m\u001b[37m\u001b[0m \u001b[1m0s\u001b[0m 396ms/step - accuracy: 0.8965 - loss: 0.2566\n",
      "Epoch 4: val_loss did not improve from 0.38593\n",
      "\u001b[1m254/254\u001b[0m \u001b[32m━━━━━━━━━━━━━━━━━━━━\u001b[0m\u001b[37m\u001b[0m \u001b[1m126s\u001b[0m 495ms/step - accuracy: 0.8965 - loss: 0.2567 - val_accuracy: 0.8374 - val_loss: 0.4335 - learning_rate: 1.0000e-05\n",
      "Epoch 5/20\n",
      "\u001b[1m254/254\u001b[0m \u001b[32m━━━━━━━━━━━━━━━━━━━━\u001b[0m\u001b[37m\u001b[0m \u001b[1m0s\u001b[0m 408ms/step - accuracy: 0.8959 - loss: 0.2672\n",
      "Epoch 5: val_loss improved from 0.38593 to 0.36924, saving model to best_model.h5\n"
     ]
    },
    {
     "name": "stderr",
     "output_type": "stream",
     "text": [
      "WARNING:absl:You are saving your model as an HDF5 file via `model.save()` or `keras.saving.save_model(model)`. This file format is considered legacy. We recommend using instead the native Keras format, e.g. `model.save('my_model.keras')` or `keras.saving.save_model(model, 'my_model.keras')`. \n"
     ]
    },
    {
     "name": "stdout",
     "output_type": "stream",
     "text": [
      "\u001b[1m254/254\u001b[0m \u001b[32m━━━━━━━━━━━━━━━━━━━━\u001b[0m\u001b[37m\u001b[0m \u001b[1m129s\u001b[0m 507ms/step - accuracy: 0.8959 - loss: 0.2672 - val_accuracy: 0.8546 - val_loss: 0.3692 - learning_rate: 1.0000e-05\n",
      "Epoch 6/20\n",
      "\u001b[1m254/254\u001b[0m \u001b[32m━━━━━━━━━━━━━━━━━━━━\u001b[0m\u001b[37m\u001b[0m \u001b[1m0s\u001b[0m 387ms/step - accuracy: 0.8967 - loss: 0.2464\n",
      "Epoch 6: val_loss did not improve from 0.36924\n",
      "\u001b[1m254/254\u001b[0m \u001b[32m━━━━━━━━━━━━━━━━━━━━\u001b[0m\u001b[37m\u001b[0m \u001b[1m124s\u001b[0m 490ms/step - accuracy: 0.8967 - loss: 0.2464 - val_accuracy: 0.8374 - val_loss: 0.4446 - learning_rate: 1.0000e-05\n",
      "Epoch 7/20\n",
      "\u001b[1m254/254\u001b[0m \u001b[32m━━━━━━━━━━━━━━━━━━━━\u001b[0m\u001b[37m\u001b[0m \u001b[1m0s\u001b[0m 395ms/step - accuracy: 0.8961 - loss: 0.2633\n",
      "Epoch 7: val_loss did not improve from 0.36924\n",
      "\u001b[1m254/254\u001b[0m \u001b[32m━━━━━━━━━━━━━━━━━━━━\u001b[0m\u001b[37m\u001b[0m \u001b[1m124s\u001b[0m 487ms/step - accuracy: 0.8961 - loss: 0.2633 - val_accuracy: 0.8418 - val_loss: 0.4003 - learning_rate: 1.0000e-05\n",
      "Epoch 8/20\n",
      "\u001b[1m254/254\u001b[0m \u001b[32m━━━━━━━━━━━━━━━━━━━━\u001b[0m\u001b[37m\u001b[0m \u001b[1m0s\u001b[0m 443ms/step - accuracy: 0.9023 - loss: 0.2593\n",
      "Epoch 8: val_loss did not improve from 0.36924\n",
      "\u001b[1m254/254\u001b[0m \u001b[32m━━━━━━━━━━━━━━━━━━━━\u001b[0m\u001b[37m\u001b[0m \u001b[1m140s\u001b[0m 552ms/step - accuracy: 0.9023 - loss: 0.2594 - val_accuracy: 0.8452 - val_loss: 0.3899 - learning_rate: 1.0000e-05\n",
      "Epoch 9/20\n",
      "\u001b[1m254/254\u001b[0m \u001b[32m━━━━━━━━━━━━━━━━━━━━\u001b[0m\u001b[37m\u001b[0m \u001b[1m0s\u001b[0m 494ms/step - accuracy: 0.9018 - loss: 0.2520\n",
      "Epoch 9: val_loss did not improve from 0.36924\n",
      "\u001b[1m254/254\u001b[0m \u001b[32m━━━━━━━━━━━━━━━━━━━━\u001b[0m\u001b[37m\u001b[0m \u001b[1m150s\u001b[0m 588ms/step - accuracy: 0.9018 - loss: 0.2520 - val_accuracy: 0.8497 - val_loss: 0.4206 - learning_rate: 1.0000e-05\n",
      "Epoch 10/20\n",
      "\u001b[1m254/254\u001b[0m \u001b[32m━━━━━━━━━━━━━━━━━━━━\u001b[0m\u001b[37m\u001b[0m \u001b[1m0s\u001b[0m 408ms/step - accuracy: 0.9021 - loss: 0.2526\n",
      "Epoch 10: val_loss did not improve from 0.36924\n",
      "\n",
      "Epoch 10: ReduceLROnPlateau reducing learning rate to 4.999999873689376e-06.\n",
      "\u001b[1m254/254\u001b[0m \u001b[32m━━━━━━━━━━━━━━━━━━━━\u001b[0m\u001b[37m\u001b[0m \u001b[1m132s\u001b[0m 519ms/step - accuracy: 0.9021 - loss: 0.2526 - val_accuracy: 0.8418 - val_loss: 0.4142 - learning_rate: 1.0000e-05\n",
      "Epoch 11/20\n",
      "\u001b[1m254/254\u001b[0m \u001b[32m━━━━━━━━━━━━━━━━━━━━\u001b[0m\u001b[37m\u001b[0m \u001b[1m0s\u001b[0m 446ms/step - accuracy: 0.8981 - loss: 0.2658\n",
      "Epoch 11: val_loss did not improve from 0.36924\n",
      "\u001b[1m254/254\u001b[0m \u001b[32m━━━━━━━━━━━━━━━━━━━━\u001b[0m\u001b[37m\u001b[0m \u001b[1m140s\u001b[0m 550ms/step - accuracy: 0.8981 - loss: 0.2657 - val_accuracy: 0.8403 - val_loss: 0.4325 - learning_rate: 5.0000e-06\n",
      "Epoch 12/20\n",
      "\u001b[1m254/254\u001b[0m \u001b[32m━━━━━━━━━━━━━━━━━━━━\u001b[0m\u001b[37m\u001b[0m \u001b[1m0s\u001b[0m 409ms/step - accuracy: 0.8974 - loss: 0.2591\n",
      "Epoch 12: val_loss did not improve from 0.36924\n",
      "\u001b[1m254/254\u001b[0m \u001b[32m━━━━━━━━━━━━━━━━━━━━\u001b[0m\u001b[37m\u001b[0m \u001b[1m129s\u001b[0m 508ms/step - accuracy: 0.8974 - loss: 0.2591 - val_accuracy: 0.8388 - val_loss: 0.4155 - learning_rate: 5.0000e-06\n",
      "Epoch 13/20\n",
      "\u001b[1m254/254\u001b[0m \u001b[32m━━━━━━━━━━━━━━━━━━━━\u001b[0m\u001b[37m\u001b[0m \u001b[1m0s\u001b[0m 423ms/step - accuracy: 0.8972 - loss: 0.2555\n",
      "Epoch 13: val_loss did not improve from 0.36924\n",
      "\u001b[1m254/254\u001b[0m \u001b[32m━━━━━━━━━━━━━━━━━━━━\u001b[0m\u001b[37m\u001b[0m \u001b[1m132s\u001b[0m 520ms/step - accuracy: 0.8972 - loss: 0.2555 - val_accuracy: 0.8521 - val_loss: 0.4068 - learning_rate: 5.0000e-06\n",
      "Epoch 14/20\n",
      "\u001b[1m254/254\u001b[0m \u001b[32m━━━━━━━━━━━━━━━━━━━━\u001b[0m\u001b[37m\u001b[0m \u001b[1m0s\u001b[0m 421ms/step - accuracy: 0.9016 - loss: 0.2548\n",
      "Epoch 14: val_loss did not improve from 0.36924\n",
      "\u001b[1m254/254\u001b[0m \u001b[32m━━━━━━━━━━━━━━━━━━━━\u001b[0m\u001b[37m\u001b[0m \u001b[1m132s\u001b[0m 518ms/step - accuracy: 0.9016 - loss: 0.2548 - val_accuracy: 0.8438 - val_loss: 0.4046 - learning_rate: 5.0000e-06\n",
      "Epoch 15/20\n",
      "\u001b[1m254/254\u001b[0m \u001b[32m━━━━━━━━━━━━━━━━━━━━\u001b[0m\u001b[37m\u001b[0m \u001b[1m0s\u001b[0m 408ms/step - accuracy: 0.8999 - loss: 0.2509\n",
      "Epoch 15: val_loss did not improve from 0.36924\n",
      "\n",
      "Epoch 15: ReduceLROnPlateau reducing learning rate to 2.499999936844688e-06.\n",
      "\u001b[1m254/254\u001b[0m \u001b[32m━━━━━━━━━━━━━━━━━━━━\u001b[0m\u001b[37m\u001b[0m \u001b[1m130s\u001b[0m 511ms/step - accuracy: 0.8999 - loss: 0.2509 - val_accuracy: 0.8349 - val_loss: 0.4274 - learning_rate: 5.0000e-06\n",
      "Epoch 16/20\n",
      "\u001b[1m254/254\u001b[0m \u001b[32m━━━━━━━━━━━━━━━━━━━━\u001b[0m\u001b[37m\u001b[0m \u001b[1m0s\u001b[0m 421ms/step - accuracy: 0.9111 - loss: 0.2355\n",
      "Epoch 16: val_loss did not improve from 0.36924\n",
      "\u001b[1m254/254\u001b[0m \u001b[32m━━━━━━━━━━━━━━━━━━━━\u001b[0m\u001b[37m\u001b[0m \u001b[1m131s\u001b[0m 517ms/step - accuracy: 0.9111 - loss: 0.2355 - val_accuracy: 0.8418 - val_loss: 0.4106 - learning_rate: 2.5000e-06\n",
      "Epoch 17/20\n",
      "\u001b[1m254/254\u001b[0m \u001b[32m━━━━━━━━━━━━━━━━━━━━\u001b[0m\u001b[37m\u001b[0m \u001b[1m0s\u001b[0m 440ms/step - accuracy: 0.9011 - loss: 0.2488\n",
      "Epoch 17: val_loss did not improve from 0.36924\n",
      "\u001b[1m254/254\u001b[0m \u001b[32m━━━━━━━━━━━━━━━━━━━━\u001b[0m\u001b[37m\u001b[0m \u001b[1m141s\u001b[0m 554ms/step - accuracy: 0.9011 - loss: 0.2488 - val_accuracy: 0.8462 - val_loss: 0.4116 - learning_rate: 2.5000e-06\n",
      "Epoch 18/20\n",
      "\u001b[1m254/254\u001b[0m \u001b[32m━━━━━━━━━━━━━━━━━━━━\u001b[0m\u001b[37m\u001b[0m \u001b[1m0s\u001b[0m 469ms/step - accuracy: 0.9091 - loss: 0.2412\n",
      "Epoch 18: val_loss did not improve from 0.36924\n",
      "\u001b[1m254/254\u001b[0m \u001b[32m━━━━━━━━━━━━━━━━━━━━\u001b[0m\u001b[37m\u001b[0m \u001b[1m148s\u001b[0m 582ms/step - accuracy: 0.9091 - loss: 0.2412 - val_accuracy: 0.8364 - val_loss: 0.4150 - learning_rate: 2.5000e-06\n",
      "Epoch 19/20\n",
      "\u001b[1m254/254\u001b[0m \u001b[32m━━━━━━━━━━━━━━━━━━━━\u001b[0m\u001b[37m\u001b[0m \u001b[1m0s\u001b[0m 463ms/step - accuracy: 0.9076 - loss: 0.2469\n",
      "Epoch 19: val_loss did not improve from 0.36924\n",
      "\u001b[1m254/254\u001b[0m \u001b[32m━━━━━━━━━━━━━━━━━━━━\u001b[0m\u001b[37m\u001b[0m \u001b[1m143s\u001b[0m 562ms/step - accuracy: 0.9076 - loss: 0.2469 - val_accuracy: 0.8467 - val_loss: 0.4141 - learning_rate: 2.5000e-06\n",
      "Epoch 20/20\n",
      "\u001b[1m254/254\u001b[0m \u001b[32m━━━━━━━━━━━━━━━━━━━━\u001b[0m\u001b[37m\u001b[0m \u001b[1m0s\u001b[0m 413ms/step - accuracy: 0.9027 - loss: 0.2575\n",
      "Epoch 20: val_loss did not improve from 0.36924\n",
      "\n",
      "Epoch 20: ReduceLROnPlateau reducing learning rate to 1.249999968422344e-06.\n",
      "\u001b[1m254/254\u001b[0m \u001b[32m━━━━━━━━━━━━━━━━━━━━\u001b[0m\u001b[37m\u001b[0m \u001b[1m132s\u001b[0m 519ms/step - accuracy: 0.9027 - loss: 0.2575 - val_accuracy: 0.8388 - val_loss: 0.4140 - learning_rate: 2.5000e-06\n"
     ]
    }
   ],
   "source": [
    "# --- 5. Fine-tuning (débloquer les couches hautes) ---\n",
    "base_model.trainable = True\n",
    "for layer in base_model.layers[:100]:  # On ne débloque que les couches supérieures\n",
    "    layer.trainable = False\n",
    "\n",
    "# Recompiler après avoir débloqué des couches\n",
    "model.compile(optimizer=Adam(learning_rate=1e-5),\n",
    "              loss='categorical_crossentropy',\n",
    "              metrics=['accuracy'])\n",
    "\n",
    "# Entraînement supplémentaire\n",
    "history_finetune = model.fit(\n",
    "    train_generator,\n",
    "    epochs=20,\n",
    "    validation_data=validation_generator,\n",
    "    callbacks=[checkpoint, reduce_lr],\n",
    "    verbose=1\n",
    ")\n"
   ]
  },
  {
   "cell_type": "code",
   "execution_count": 68,
   "metadata": {},
   "outputs": [
    {
     "name": "stderr",
     "output_type": "stream",
     "text": [
      "WARNING:absl:You are saving your model as an HDF5 file via `model.save()` or `keras.saving.save_model(model)`. This file format is considered legacy. We recommend using instead the native Keras format, e.g. `model.save('my_model.keras')` or `keras.saving.save_model(model, 'my_model.keras')`. \n"
     ]
    }
   ],
   "source": [
    "# Sauvegarde du modèle final\n",
    "model.save('model5.h5')"
   ]
  },
  {
   "cell_type": "code",
   "execution_count": 70,
   "metadata": {},
   "outputs": [
    {
     "name": "stdout",
     "output_type": "stream",
     "text": [
      "\u001b[1m318/318\u001b[0m \u001b[32m━━━━━━━━━━━━━━━━━━━━\u001b[0m\u001b[37m\u001b[0m \u001b[1m66s\u001b[0m 207ms/step - accuracy: 0.9129 - loss: 0.2243\n",
      "Test Accuracy: 0.9296\n"
     ]
    }
   ],
   "source": [
    "\n",
    "# Evaluate on test set\n",
    "test_loss, test_acc = model.evaluate(test_generator)\n",
    "print(f'Test Accuracy: {test_acc:.4f}')"
   ]
  },
  {
   "cell_type": "code",
   "execution_count": 71,
   "metadata": {},
   "outputs": [
    {
     "data": {
      "image/png": "[encoded data removed]",
      "text/plain": [
       "<Figure size 640x480 with 1 Axes>"
      ]
     },
     "metadata": {},
     "output_type": "display_data"
    },
    {
     "data": {
      "image/png": "[encoded data removed]",
      "text/plain": [
       "<Figure size 640x480 with 1 Axes>"
      ]
     },
     "metadata": {},
     "output_type": "display_data"
    }
   ],
   "source": [
    "import matplotlib.pyplot as plt\n",
    "\n",
    "# Affichage accuracy\n",
    "plt.plot(history.history['accuracy'] + history_finetune.history['accuracy'], label='Training Accuracy')\n",
    "plt.plot(history.history['val_accuracy'] + history_finetune.history['val_accuracy'], label='Validation Accuracy')\n",
    "plt.xlabel('Epochs')\n",
    "plt.ylabel('Accuracy')\n",
    "plt.legend()\n",
    "plt.title('Training and Validation Accuracy')\n",
    "plt.show()\n",
    "\n",
    "# Affichage loss\n",
    "plt.plot(history.history['loss'] + history_finetune.history['loss'], label='Training Loss')\n",
    "plt.plot(history.history['val_loss'] + history_finetune.history['val_loss'], label='Validation Loss')\n",
    "plt.xlabel('Epochs')\n",
    "plt.ylabel('Loss')\n",
    "plt.legend()\n",
    "plt.title('Training and Validation Loss')\n",
    "plt.show()"
   ]
  },
  {
   "cell_type": "code",
   "execution_count": 5,
   "metadata": {},
   "outputs": [
    {
     "name": "stderr",
     "output_type": "stream",
     "text": [
      "WARNING:absl:Compiled the loaded model, but the compiled metrics have yet to be built. `model.compile_metrics` will be empty until you train or evaluate the model.\n"
     ]
    }
   ],
   "source": [
    "import cv2\n",
    "import numpy as np\n",
    "import tensorflow as tf\n",
    "\n",
    "# Charger le modèle pré-entraîné\n",
    "try:\n",
    "    model = tf.keras.models.load_model('model4.h5')\n",
    "except Exception as e:\n",
    "    print(f\"Erreur lors du chargement du modèle : {e}\")\n",
    "    exit()\n",
    "\n",
    "# Dictionnaire des émotions\n",
    "emotion_labels = ['Fatigue', 'tres fatigue', 'neutre']\n",
    "\n",
    "# Ouvrir la caméra\n",
    "cap = cv2.VideoCapture(0)\n",
    "if not cap.isOpened():\n",
    "    print(\"Erreur : Impossible d'ouvrir la caméra.\")\n",
    "    exit()\n",
    "\n",
    "# Chargement du classificateur de visage\n",
    "face_cascade = cv2.CascadeClassifier(cv2.data.haarcascades + 'haarcascade_frontalface_default.xml')\n",
    "if face_cascade.empty():\n",
    "    print(\"Erreur : Impossible de charger le classificateur de visage.\")\n",
    "    cap.release()\n",
    "    exit()\n",
    "\n",
    "last_face = None  # Stocker la dernière position du visage détecté\n",
    "\n",
    "while True:\n",
    "    ret, frame = cap.read()\n",
    "    if not ret:\n",
    "        print(\"Erreur : Problème lors de la capture de la vidéo.\")\n",
    "        break\n",
    "\n",
    "    gray = cv2.cvtColor(frame, cv2.COLOR_BGR2GRAY)\n",
    "    faces = face_cascade.detectMultiScale(gray, scaleFactor=1.3, minNeighbors=5)\n",
    "\n",
    "    if len(faces) == 0 and last_face is not None:\n",
    "        faces = [last_face]\n",
    "\n",
    "    for (x, y, w, h) in faces:\n",
    "        last_face = (x, y, w, h)\n",
    "        padding = int(h * 0.5)  # Ajouter un padding autour du visage\n",
    "        x1, y1 = max(x - padding, 0), max(y - padding, 0)\n",
    "        x2, y2 = min(x + w + padding, frame.shape[1]), min(y + h + padding, frame.shape[0])\n",
    "\n",
    "        face = frame[y1:y2, x1:x2]\n",
    "\n",
    "        if face.shape[0] == 0 or face.shape[1] == 0:\n",
    "            continue  # Éviter les erreurs de dimension\n",
    "\n",
    "        face = cv2.resize(face, (150, 150))\n",
    "        face = face.astype('float32') / 255.0\n",
    "        face = np.expand_dims(face, axis=0)\n",
    "\n",
    "        prediction = model.predict(face, verbose=0)\n",
    "        emotion = emotion_labels[np.argmax(prediction[0])]\n",
    "\n",
    "        cv2.rectangle(frame, (x1, y1), (x2, y2), (255, 0, 0), 2)\n",
    "        text_x = max(x1, 10)\n",
    "        text_y = max(y1 - 10, 20)\n",
    "        cv2.putText(frame, emotion, (text_x, text_y), cv2.FONT_HERSHEY_SIMPLEX, 1, (0, 255, 0), 2)\n",
    "\n",
    "    cv2.imshow(\"Détection d'émotions\", frame)\n",
    "    \n",
    "    # Attendre 1 ms pour éviter une utilisation CPU excessive\n",
    "    if cv2.waitKey(1) & 0xFF == ord('q'):\n",
    "        break\n",
    "\n",
    "cap.release()\n",
    "cv2.destroyAllWindows()\n"
   ]
  }
 ],
 "metadata": {
  "kernelspec": {
   "display_name": "Python 3",
   "language": "python",
   "name": "python3"
  },
  "language_info": {
   "codemirror_mode": {
    "name": "ipython",
    "version": 3
   },
   "file_extension": ".py",
   "mimetype": "text/x-python",
   "name": "python",
   "nbconvert_exporter": "python",
   "pygments_lexer": "ipython3",
   "version": "3.12.7"
  }
 },
 "nbformat": 4,
 "nbformat_minor": 2
}
